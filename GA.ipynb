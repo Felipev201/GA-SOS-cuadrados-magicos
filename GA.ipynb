{
 "cells": [
  {
   "cell_type": "code",
   "execution_count": 3,
   "metadata": {
    "id": "t-E7GjlwvejH"
   },
   "outputs": [],
   "source": [
    "import numpy as np\n",
    "import random\n",
    "import timeit\n",
    "import pandas as pd\n",
    "from numba import jit, njit\n",
    "import magic55\n",
    "import magic33"
   ]
  },
  {
   "cell_type": "markdown",
   "metadata": {
    "id": "R5XHdQm6wMso"
   },
   "source": [
    "# Algoritmo genetico"
   ]
  },
  {
   "cell_type": "code",
   "execution_count": 3,
   "metadata": {
    "colab": {
     "base_uri": "https://localhost:8080/"
    },
    "id": "cdX7PBaWwtmY",
    "outputId": "cd0311af-efde-4a7a-b50e-b1a355436617"
   },
   "outputs": [
    {
     "name": "stdout",
     "output_type": "stream",
     "text": [
      "Requirement already satisfied: geneticalgorithm in /usr/local/lib/python3.7/dist-packages (1.0.2)\n",
      "Requirement already satisfied: numpy in /usr/local/lib/python3.7/dist-packages (from geneticalgorithm) (1.19.5)\n",
      "Requirement already satisfied: func-timeout in /usr/local/lib/python3.7/dist-packages (from geneticalgorithm) (4.3.5)\n"
     ]
    }
   ],
   "source": [
    "!pip install geneticalgorithm"
   ]
  },
  {
   "cell_type": "code",
   "execution_count": 5,
   "metadata": {
    "colab": {
     "base_uri": "https://localhost:8080/",
     "height": 380
    },
    "id": "pAYbE0E5wi89",
    "outputId": "aed58bcf-2493-4fe1-efcc-6e1d1ab8ce18"
   },
   "outputs": [
    {
     "name": "stdout",
     "output_type": "stream",
     "text": [
      " The best solution found:\n",
      " [ 4. 12.  6.  6.  7.  2. 38. 10.  3.  3. 50.  3. 15.  6.  7.]\n",
      "\n",
      " Objective function:\n",
      " 2.647878268324046\n"
     ]
    },
    {
     "data": {
      "image/png": "[encoded data removed]",
      "text/plain": [
       "<Figure size 432x288 with 1 Axes>"
      ]
     },
     "metadata": {
      "needs_background": "light",
      "tags": []
     },
     "output_type": "display_data"
    }
   ],
   "source": [
    "import numpy as np\n",
    "from geneticalgorithm import geneticalgorithm as ga\n",
    "\n",
    "lb=np.ones(15)*2      # lower bound\n",
    "ub=np.ones(15)*50       # upper bound\n",
    "\n",
    "varbound=np.concatenate((lb.reshape(15,1),ub.reshape(15,1)),axis=1)\n",
    "\n",
    "data_frame_g = pd.DataFrame()\n",
    "\n",
    "#for iteracion in range(3):\n",
    "algorithm_param = {'max_num_iteration': 15000,\\\n",
    "                  'population_size':500,\\\n",
    "                  'mutation_probability':0.25,\\\n",
    "                  'elit_ratio': 0.01,\\\n",
    "                  'crossover_probability': 0.5,\\\n",
    "                  'parents_portion': 0.3,\\\n",
    "                  'crossover_type':'uniform',\\\n",
    "                  'max_iteration_without_improv':None}\n",
    "\n",
    "model=ga(function=fitness_multi_55,dimension=15,variable_type='int',variable_boundaries=varbound,\n",
    "          algorithm_parameters=algorithm_param)\n",
    "\n",
    "model.run()\n",
    "dicc = model.output_dict\n",
    "\n",
    "data_frame = pd.DataFrame(dicc)\n",
    "data_frame_g = pd.concat([data_frame_g, data_frame], ignore_index=True)\n",
    "\n",
    "data_frame_g.to_csv(\"Results_pob150.csv\",index=False)"
   ]
  },
  {
   "cell_type": "code",
   "execution_count": null,
   "metadata": {
    "id": "2YwMHonXl4n_"
   },
   "outputs": [],
   "source": []
  }
 ],
 "metadata": {
  "colab": {
   "name": "SOSyGA.ipynb",
   "provenance": [],
   "toc_visible": true
  },
  "kernelspec": {
   "display_name": "Python 3",
   "language": "python",
   "name": "python3"
  },
  "language_info": {
   "codemirror_mode": {
    "name": "ipython",
    "version": 3
   },
   "file_extension": ".py",
   "mimetype": "text/x-python",
   "name": "python",
   "nbconvert_exporter": "python",
   "pygments_lexer": "ipython3",
   "version": "3.7.4"
  }
 },
 "nbformat": 4,
 "nbformat_minor": 1
}
